{
  "nbformat": 4,
  "nbformat_minor": 0,
  "metadata": {
    "colab": {
      "provenance": [],
      "include_colab_link": true
    },
    "kernelspec": {
      "name": "python3",
      "display_name": "Python 3"
    },
    "language_info": {
      "name": "python"
    }
  },
  "cells": [
    {
      "cell_type": "markdown",
      "metadata": {
        "id": "view-in-github",
        "colab_type": "text"
      },
      "source": [
        "<a href=\"https://colab.research.google.com/github/zafiz10/test-colab/blob/main/datastructures.ipynb\" target=\"_parent\"><img src=\"https://colab.research.google.com/assets/colab-badge.svg\" alt=\"Open In Colab\"/></a>"
      ]
    },
    {
      "cell_type": "code",
      "source": [
        "text = 'python is a popular programming language.'\n",
        "print(text.capitalize())"
      ],
      "metadata": {
        "colab": {
          "base_uri": "https://localhost:8080/"
        },
        "id": "Pa46MflAj9Gf",
        "outputId": "c5c1fd82-50ad-47b0-c34a-37cdcca2130d"
      },
      "execution_count": 7,
      "outputs": [
        {
          "output_type": "stream",
          "name": "stdout",
          "text": [
            "Python is a popular programming language.\n"
          ]
        }
      ]
    },
    {
      "cell_type": "code",
      "source": [
        "text = 'python is a popular programming language.'\n",
        "print(f\"Number of occurences: {text.count('p')}\")"
      ],
      "metadata": {
        "colab": {
          "base_uri": "https://localhost:8080/"
        },
        "id": "aOD-671_kwyX",
        "outputId": "ba13f34d-8f47-483b-a5ce-f58a035584c0"
      },
      "execution_count": 16,
      "outputs": [
        {
          "output_type": "stream",
          "name": "stdout",
          "text": [
            "Number of occurences: 4\n"
          ]
        }
      ]
    },
    {
      "cell_type": "code",
      "source": [
        "code1 = 'FVNISJND-XX-2020'\n",
        "code2 = 'FVNISJND-XY-2019'\n",
        "\n",
        "print(code1.endswith('2020'))\n",
        "print(code2.endswith('2020'))"
      ],
      "metadata": {
        "colab": {
          "base_uri": "https://localhost:8080/"
        },
        "id": "6xN47sNbmH5E",
        "outputId": "f4b7b04e-671e-49c2-cba3-afa6d5ad90b2"
      },
      "execution_count": 19,
      "outputs": [
        {
          "output_type": "stream",
          "name": "stdout",
          "text": [
            "True\n",
            "False\n"
          ]
        }
      ]
    },
    {
      "cell_type": "code",
      "source": [
        "path1 = 'youtube.com/watch?v=5EhRztVxums'\n",
        "path2 = 'google.com/search?q=car'\n",
        "\n",
        "print(path1.startswith('youtube'))\n",
        "print(path2.startswith('youtube'))"
      ],
      "metadata": {
        "colab": {
          "base_uri": "https://localhost:8080/"
        },
        "id": "447DoiWBmlrH",
        "outputId": "cb81d679-c37b-40d1-ef0e-786137c3b818"
      },
      "execution_count": 20,
      "outputs": [
        {
          "output_type": "stream",
          "name": "stdout",
          "text": [
            "True\n",
            "False\n"
          ]
        }
      ]
    },
    {
      "cell_type": "code",
      "source": [
        "path1 = (\n",
        "    'https://e-smartdata.teachable.com/p/'\n",
        "    'sciezka-data-scientist-machine-learning-engineer'\n",
        ")\n",
        "path2 = (\n",
        "    'https://e-smartdata.teachable.com/p/'\n",
        "    'sciezka-data-scientist-deep-learning-engineer'\n",
        ")\n",
        "path3 = (\n",
        "    'https://e-smartdata.teachable.com/p/'\n",
        "    'sciezka-bi-analyst-data-analyst'\n",
        ")\n",
        "\n",
        "print(path1.find('scientist'))\n",
        "print(path2.find('scientist'))\n",
        "print(path3.find('scientist'))"
      ],
      "metadata": {
        "colab": {
          "base_uri": "https://localhost:8080/"
        },
        "id": "Rk-p17W4m1dy",
        "outputId": "ae34290b-abe1-4488-da6c-a169b4281451"
      },
      "execution_count": 22,
      "outputs": [
        {
          "output_type": "stream",
          "name": "stdout",
          "text": [
            "49\n",
            "49\n",
            "-1\n"
          ]
        }
      ]
    },
    {
      "cell_type": "code",
      "source": [
        "code1 = 'FVNISJND-20'\n",
        "code2 = 'FVNISJND20'\n",
        "\n",
        "print(code1.isalnum())\n",
        "print(code2.isalnum())"
      ],
      "metadata": {
        "colab": {
          "base_uri": "https://localhost:8080/"
        },
        "id": "tPWmWoxrnNZn",
        "outputId": "2ba23300-4adc-4c3b-c8dc-9b33919e3178"
      },
      "execution_count": 23,
      "outputs": [
        {
          "output_type": "stream",
          "name": "stdout",
          "text": [
            "False\n",
            "True\n"
          ]
        }
      ]
    },
    {
      "cell_type": "code",
      "source": [
        "text = 'Google Colab'\n",
        "\n",
        "print(text.lower())\n",
        "print(text.upper())\n",
        "print(text.strip())"
      ],
      "metadata": {
        "colab": {
          "base_uri": "https://localhost:8080/"
        },
        "id": "FmFxyH1gnYW1",
        "outputId": "2d7c45b9-8256-4e84-b740-90a28a191cd3"
      },
      "execution_count": 26,
      "outputs": [
        {
          "output_type": "stream",
          "name": "stdout",
          "text": [
            "google colab\n",
            "GOOGLE COLAB\n",
            "Google Colab\n"
          ]
        }
      ]
    },
    {
      "cell_type": "code",
      "source": [
        "code = 'FVNISJND-XX'\n",
        "\n",
        "print(code.replace('-', ' '))"
      ],
      "metadata": {
        "colab": {
          "base_uri": "https://localhost:8080/"
        },
        "id": "yHtYUp8Knx1e",
        "outputId": "e24942fb-a3f9-4525-9549-b7699916e58a"
      },
      "execution_count": 27,
      "outputs": [
        {
          "output_type": "stream",
          "name": "stdout",
          "text": [
            "FVNISJND XX\n"
          ]
        }
      ]
    },
    {
      "cell_type": "code",
      "source": [
        "text = '340-23-245-235'\n",
        "\n",
        "print(text.replace('-',''))"
      ],
      "metadata": {
        "colab": {
          "base_uri": "https://localhost:8080/"
        },
        "id": "ITXUYxBsn8dl",
        "outputId": "4b51bd71-df1a-45b8-b912-72c18415fe41"
      },
      "execution_count": 32,
      "outputs": [
        {
          "output_type": "stream",
          "name": "stdout",
          "text": [
            "34023245235\n"
          ]
        }
      ]
    },
    {
      "cell_type": "code",
      "source": [
        "text = 'Open,High,Low,Close'\n",
        "\n",
        "print(text.split(','))"
      ],
      "metadata": {
        "colab": {
          "base_uri": "https://localhost:8080/"
        },
        "id": "nlVqS7GRoaIW",
        "outputId": "a96c3c7a-49e6-44d0-fff7-7c8580d09e31"
      },
      "execution_count": 33,
      "outputs": [
        {
          "output_type": "stream",
          "name": "stdout",
          "text": [
            "['Open', 'High', 'Low', 'Close']\n"
          ]
        }
      ]
    },
    {
      "cell_type": "code",
      "source": [
        "text = \"\"\"Python is a general-purpose language.\n",
        "Python is popular.\"\"\"\n",
        "print(text.splitlines())"
      ],
      "metadata": {
        "colab": {
          "base_uri": "https://localhost:8080/"
        },
        "id": "7FuOBnRLokiA",
        "outputId": "4edc4c50-60a7-4dbb-e7e5-7b24271ef60f"
      },
      "execution_count": 34,
      "outputs": [
        {
          "output_type": "stream",
          "name": "stdout",
          "text": [
            "['Python is a general-purpose language.', 'Python is popular.']\n"
          ]
        }
      ]
    },
    {
      "cell_type": "code",
      "source": [
        "num = 34\n",
        "print(str(num).zfill(6))"
      ],
      "metadata": {
        "colab": {
          "base_uri": "https://localhost:8080/"
        },
        "id": "hsSJ0TjspG5F",
        "outputId": "fe3e9bf7-fb51-404f-9e4c-cbbdf8889e0e"
      },
      "execution_count": 38,
      "outputs": [
        {
          "output_type": "stream",
          "name": "stdout",
          "text": [
            "000034\n"
          ]
        }
      ]
    },
    {
      "cell_type": "code",
      "source": [
        "url = (\n",
        "    'https://e-smartdata.teachable.com/p/'\n",
        "    'sciezka-data-scientist-machine-learning-engineer'\n",
        ")\n",
        "url2 = url.split('/')[-1]\n",
        "print(url2.replace('-', ' '))"
      ],
      "metadata": {
        "colab": {
          "base_uri": "https://localhost:8080/"
        },
        "id": "ZICpbLa-psMp",
        "outputId": "f0aa3d15-ed25-411e-ac93-73f08d493755"
      },
      "execution_count": 40,
      "outputs": [
        {
          "output_type": "stream",
          "name": "stdout",
          "text": [
            "sciezka data scientist machine learning engineer\n"
          ]
        }
      ]
    }
  ]
}
