{
  "nbformat": 4,
  "nbformat_minor": 0,
  "metadata": {
    "colab": {
      "provenance": [],
      "include_colab_link": true
    },
    "kernelspec": {
      "name": "python3",
      "display_name": "Python 3"
    },
    "language_info": {
      "name": "python"
    }
  },
  "cells": [
    {
      "cell_type": "markdown",
      "metadata": {
        "id": "view-in-github",
        "colab_type": "text"
      },
      "source": [
        "<a href=\"https://colab.research.google.com/github/zafiz10/test-colab/blob/main/sets.ipynb\" target=\"_parent\"><img src=\"https://colab.research.google.com/assets/colab-badge.svg\" alt=\"Open In Colab\"/></a>"
      ]
    },
    {
      "cell_type": "code",
      "source": [
        "subjects = {'mathematics', 'biology'}\n",
        "subjects.add('english')\n",
        "print(subjects)"
      ],
      "metadata": {
        "id": "_uDTDxdarWZI",
        "outputId": "3a3aaed0-1e9e-4dda-d72c-55a4a5ce2523",
        "colab": {
          "base_uri": "https://localhost:8080/"
        }
      },
      "execution_count": 1,
      "outputs": [
        {
          "output_type": "stream",
          "name": "stdout",
          "text": [
            "{'biology', 'english', 'mathematics'}\n"
          ]
        }
      ]
    },
    {
      "cell_type": "code",
      "source": [
        "text = 'Programming in python.'\n",
        "vowels = {'a', 'e', 'i', 'o', 'u'}\n",
        "\n",
        "text2 = text.lower()\n",
        "text2 = text2.replace(' ','')\n",
        "text2 = text2.replace('.','')\n",
        "vowels = {'a', 'e', 'i', 'o', 'u'}\n",
        "letters = set(text2)\n",
        "consonants = letters.difference(vowels)\n",
        "print(f'Number of items: {len(consonants)}')"
      ],
      "metadata": {
        "id": "PzydX1oirus8",
        "outputId": "41743078-7e24-474f-f9f9-265bce5159c4",
        "colab": {
          "base_uri": "https://localhost:8080/"
        }
      },
      "execution_count": 17,
      "outputs": [
        {
          "output_type": "stream",
          "name": "stdout",
          "text": [
            "Number of items: 8\n"
          ]
        }
      ]
    },
    {
      "cell_type": "code",
      "source": [
        "A = {2, 4, 6, 8}\n",
        "B = {4, 10}\n",
        "\n",
        "sym_diff = A.symmetric_difference(B)\n",
        "print(sym_diff)"
      ],
      "metadata": {
        "id": "XokWvw0wtp3A",
        "outputId": "472fb443-efb4-4063-f72f-fcc7dd26f8a7",
        "colab": {
          "base_uri": "https://localhost:8080/"
        }
      },
      "execution_count": 18,
      "outputs": [
        {
          "output_type": "stream",
          "name": "stdout",
          "text": [
            "{2, 6, 8, 10}\n"
          ]
        }
      ]
    },
    {
      "cell_type": "code",
      "source": [
        "ad1_id = {'001', '002', '003'}\n",
        "ad2_id = {'002', '003', '007'}\n",
        "\n",
        "ad3_id = ad1_id.symmetric_difference(ad2_id)\n",
        "print(ad3_id)"
      ],
      "metadata": {
        "id": "Q600z9YLuJtY",
        "outputId": "d2c7f781-e799-4070-bf1b-0e7f5a9afb81",
        "colab": {
          "base_uri": "https://localhost:8080/"
        }
      },
      "execution_count": 20,
      "outputs": [
        {
          "output_type": "stream",
          "name": "stdout",
          "text": [
            "{'007', '001'}\n"
          ]
        }
      ]
    },
    {
      "cell_type": "code",
      "source": [
        "is_clicked = {'9001', '9002', '9005'}\n",
        "is_bought = {'9002', '9004', '9005'}\n",
        "\n",
        "customerid = is_clicked.intersection(is_bought)\n",
        "print(customerid)"
      ],
      "metadata": {
        "id": "I8qmy5-1uqJg",
        "outputId": "2838117b-3342-41a1-8cbe-8ce14a53cebf",
        "colab": {
          "base_uri": "https://localhost:8080/"
        }
      },
      "execution_count": 23,
      "outputs": [
        {
          "output_type": "stream",
          "name": "stdout",
          "text": [
            "{'9002', '9005'}\n"
          ]
        }
      ]
    }
  ]
}