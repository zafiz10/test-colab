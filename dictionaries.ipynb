{
  "nbformat": 4,
  "nbformat_minor": 0,
  "metadata": {
    "colab": {
      "provenance": [],
      "include_colab_link": true
    },
    "kernelspec": {
      "name": "python3",
      "display_name": "Python 3"
    },
    "language_info": {
      "name": "python"
    }
  },
  "cells": [
    {
      "cell_type": "markdown",
      "metadata": {
        "id": "view-in-github",
        "colab_type": "text"
      },
      "source": [
        "<a href=\"https://colab.research.google.com/github/zafiz10/test-colab/blob/main/dictionaries.ipynb\" target=\"_parent\"><img src=\"https://colab.research.google.com/assets/colab-badge.svg\" alt=\"Open In Colab\"/></a>"
      ]
    },
    {
      "cell_type": "code",
      "source": [
        "capitals = {\n",
        "    'USA': 'Washington',\n",
        "    'Germany': 'Berlin',\n",
        "    'Austria': 'Vienna'\n",
        "}\n",
        "print(capitals)\n",
        "print(capitals.keys())\n",
        "print(capitals.values())\n",
        "print(capitals.items())\n",
        "\n",
        "print(capitals.get('Austria'))"
      ],
      "metadata": {
        "id": "eYAAMaZmS8nU",
        "outputId": "369ce70f-4fe5-43fb-e6c4-f508aecf0c2e",
        "colab": {
          "base_uri": "https://localhost:8080/"
        }
      },
      "execution_count": 26,
      "outputs": [
        {
          "output_type": "stream",
          "name": "stdout",
          "text": [
            "{'USA': 'Washington', 'Germany': 'Berlin', 'Austria': 'Vienna'}\n",
            "dict_keys(['USA', 'Germany', 'Austria'])\n",
            "dict_values(['Washington', 'Berlin', 'Vienna'])\n",
            "dict_items([('USA', 'Washington'), ('Germany', 'Berlin'), ('Austria', 'Vienna')])\n",
            "Vienna\n"
          ]
        }
      ]
    },
    {
      "cell_type": "code",
      "source": [
        "stocks = {\n",
        "    'MSFT.US': {'Microsoft Corp': 184},\n",
        "    'AAPL.US': {'Apple Inc': 310},\n",
        "    'MMM.US': {'3M Co': 148}\n",
        "}\n",
        "\n",
        "stocks['MSFT.US']['Microsoft Corp'] = 190\n",
        "\n",
        "stocks['V.US'] = {'Visa Inc': 185}\n",
        "\n",
        "print(stocks['AAPL.US'])\n",
        "print(stocks['MSFT.US']['Microsoft Corp'])\n",
        "print(stocks['MSFT.US'])\n",
        "print(stocks.values())"
      ],
      "metadata": {
        "id": "ep1kP34gUIm1",
        "outputId": "32a6658d-63c3-40fa-c999-d870da418fca",
        "colab": {
          "base_uri": "https://localhost:8080/"
        }
      },
      "execution_count": 46,
      "outputs": [
        {
          "output_type": "stream",
          "name": "stdout",
          "text": [
            "{'Apple Inc': 310}\n",
            "190\n",
            "{'Microsoft Corp': 190}\n",
            "dict_values([{'Microsoft Corp': 190}, {'Apple Inc': 310}, {'3M Co': 148}, {'Visa Inc': 185}])\n"
          ]
        }
      ]
    },
    {
      "cell_type": "code",
      "source": [
        "tickers = [\n",
        "    'AAPL.US', 'AXP.US', 'BA.US', 'CAT.US',\n",
        "    'CSCO.US', 'CVX.US', 'DIS.US', 'DOW.US',\n",
        "    'GS.US', 'HD.US', 'IBM.US', 'INTC.US'\n",
        "]\n",
        "\n",
        "print(list(enumerate(tickers)))\n",
        "print(dict(enumerate(tickers)))"
      ],
      "metadata": {
        "id": "3SNQjx_7XzGn",
        "outputId": "6dc1cee5-bc43-4cf9-c0b7-889c65a1f30c",
        "colab": {
          "base_uri": "https://localhost:8080/"
        }
      },
      "execution_count": 48,
      "outputs": [
        {
          "output_type": "stream",
          "name": "stdout",
          "text": [
            "[(0, 'AAPL.US'), (1, 'AXP.US'), (2, 'BA.US'), (3, 'CAT.US'), (4, 'CSCO.US'), (5, 'CVX.US'), (6, 'DIS.US'), (7, 'DOW.US'), (8, 'GS.US'), (9, 'HD.US'), (10, 'IBM.US'), (11, 'INTC.US')]\n",
            "{0: 'AAPL.US', 1: 'AXP.US', 2: 'BA.US', 3: 'CAT.US', 4: 'CSCO.US', 5: 'CVX.US', 6: 'DIS.US', 7: 'DOW.US', 8: 'GS.US', 9: 'HD.US', 10: 'IBM.US', 11: 'INTC.US'}\n"
          ]
        }
      ]
    },
    {
      "cell_type": "code",
      "source": [
        "project_ids = {\n",
        "    '01': 'open',\n",
        "    '03': 'in progress',\n",
        "    '05': 'in progress',\n",
        "    '04': 'completed'\n",
        "}\n",
        "\n",
        "result = list(set(project_ids.values()))\n",
        "result.sort()\n",
        "print(result)"
      ],
      "metadata": {
        "id": "aHfN2sPDYVAt",
        "outputId": "f2909e7b-3a6f-4b0a-aded-18bb048f89ec",
        "colab": {
          "base_uri": "https://localhost:8080/"
        }
      },
      "execution_count": 54,
      "outputs": [
        {
          "output_type": "stream",
          "name": "stdout",
          "text": [
            "['completed', 'in progress', 'open']\n"
          ]
        }
      ]
    },
    {
      "cell_type": "code",
      "source": [
        "stats = {'site': 'e-smartdata.org', 'traffic': 100, 'type': 'organic'}\n",
        "# stats.pop('traffic')\n",
        "del stats['traffic']\n",
        "print(stats)"
      ],
      "metadata": {
        "id": "MadyxqYsY_Ux",
        "outputId": "307a034b-1626-4db7-8350-01249da73d78",
        "colab": {
          "base_uri": "https://localhost:8080/"
        }
      },
      "execution_count": 58,
      "outputs": [
        {
          "output_type": "stream",
          "name": "stdout",
          "text": [
            "{'site': 'e-smartdata.org', 'type': 'organic'}\n"
          ]
        }
      ]
    },
    {
      "cell_type": "code",
      "source": [
        "users = {'001': 'Mark', '002': 'Monica', '003': 'Jacob'}\n",
        "print(users.get('004', 'indefinite'))"
      ],
      "metadata": {
        "id": "wPuncN9tZTy7",
        "outputId": "c9a43138-98b2-44cc-aa9b-dee7703c8d82",
        "colab": {
          "base_uri": "https://localhost:8080/"
        }
      },
      "execution_count": 59,
      "outputs": [
        {
          "output_type": "stream",
          "name": "stdout",
          "text": [
            "indefinite\n"
          ]
        }
      ]
    }
  ]
}