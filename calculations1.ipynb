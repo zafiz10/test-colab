{
  "nbformat": 4,
  "nbformat_minor": 0,
  "metadata": {
    "colab": {
      "provenance": [],
      "include_colab_link": true
    },
    "kernelspec": {
      "name": "python3",
      "display_name": "Python 3"
    },
    "language_info": {
      "name": "python"
    }
  },
  "cells": [
    {
      "cell_type": "markdown",
      "metadata": {
        "id": "view-in-github",
        "colab_type": "text"
      },
      "source": [
        "<a href=\"https://colab.research.google.com/github/zafiz10/test-colab/blob/main/calculations1.ipynb\" target=\"_parent\"><img src=\"https://colab.research.google.com/assets/colab-badge.svg\" alt=\"Open In Colab\"/></a>"
      ]
    },
    {
      "cell_type": "code",
      "source": [
        "radius = 5\n",
        "pi = 3.14\n",
        "area = pi*radius**2\n",
        "print(f'Area: {area:.1f}')"
      ],
      "metadata": {
        "id": "-g-NNRhHIdwR",
        "outputId": "215ae483-0906-4760-e9f7-d585db6b11e4",
        "colab": {
          "base_uri": "https://localhost:8080/"
        }
      },
      "execution_count": 5,
      "outputs": [
        {
          "output_type": "stream",
          "name": "stdout",
          "text": [
            "Area: 78.5\n"
          ]
        }
      ]
    },
    {
      "cell_type": "code",
      "source": [
        "fvalues = 1000\n",
        "ainterest = 3\n",
        "iperiod = 5\n",
        "ftotal = fvalues * 1.03 **5\n",
        "print(f'The future value of the investment is {ftotal:.2f} USD')"
      ],
      "metadata": {
        "id": "UXrDd1EEJQN5",
        "outputId": "c559c2a4-8f90-4f1c-f9a2-4aab1c0c3657",
        "colab": {
          "base_uri": "https://localhost:8080/"
        }
      },
      "execution_count": 9,
      "outputs": [
        {
          "output_type": "stream",
          "name": "stdout",
          "text": [
            "The future value of the investment is 1159.27 USD\n"
          ]
        }
      ]
    },
    {
      "cell_type": "code",
      "source": [
        "a = 3\n",
        "b = 4\n",
        "c = 1\n",
        "delta = b ** 2 - 4 * a * c\n",
        "print('Delta:', delta)"
      ],
      "metadata": {
        "id": "vraiwVLOK37w",
        "outputId": "0361eab5-ea6a-496a-9a8d-c9a2c57dbfca",
        "colab": {
          "base_uri": "https://localhost:8080/"
        }
      },
      "execution_count": 12,
      "outputs": [
        {
          "output_type": "stream",
          "name": "stdout",
          "text": [
            "Delta: 4\n"
          ]
        }
      ]
    },
    {
      "cell_type": "code",
      "source": [
        "n = 10\n",
        "a1 = 14\n",
        "a10 = 50\n",
        "total = n / 2 * (a1 + a10)\n",
        "print (total)\n"
      ],
      "metadata": {
        "id": "WuOPyyj4HY5P",
        "outputId": "3be6b32d-65a8-4bfc-fb13-03d9186b0961",
        "colab": {
          "base_uri": "https://localhost:8080/"
        }
      },
      "execution_count": 24,
      "outputs": [
        {
          "output_type": "stream",
          "name": "stdout",
          "text": [
            "320.0\n"
          ]
        }
      ]
    },
    {
      "cell_type": "code",
      "source": [
        "a1 = 8\n",
        "a2 = 16\n",
        "r = a2 / a1\n",
        "n = 6\n",
        "an = a1 * ((1 - r ** n) / (1 - r))\n",
        "print(f'The sum of the first {n} elements is: {an}')"
      ],
      "metadata": {
        "id": "Lm8cAQKbIPa6",
        "outputId": "42f72c2e-02fb-4039-b1d4-4b88f202fc81",
        "colab": {
          "base_uri": "https://localhost:8080/"
        }
      },
      "execution_count": 29,
      "outputs": [
        {
          "output_type": "stream",
          "name": "stdout",
          "text": [
            "The sum of the first 6 elements is: 504.0\n"
          ]
        }
      ]
    },
    {
      "cell_type": "code",
      "source": [
        "#x1 + x2 = -b/a ... x1x2 = c/a\n",
        "\n",
        "a = 1\n",
        "b = 5\n",
        "c = 4\n",
        "\n",
        "print(f'x1 + x2 = {-b/a} \\nx1x2 = {c/a}')"
      ],
      "metadata": {
        "id": "tAGFnliEJ7e2",
        "outputId": "a76b268e-2156-4682-ef75-804b17fa9f23",
        "colab": {
          "base_uri": "https://localhost:8080/"
        }
      },
      "execution_count": 33,
      "outputs": [
        {
          "output_type": "stream",
          "name": "stdout",
          "text": [
            "x1 + x2 = -5.0 \n",
            "x1x2 = 4.0\n"
          ]
        }
      ]
    },
    {
      "cell_type": "code",
      "source": [
        "a1 = 2\n",
        "a2 = 4\n",
        "b1 = -4\n",
        "b2 = 6\n",
        "\n",
        "print(f'The middle point: ({(a1 + b1)/2}, {(a2 + b2)/2})')"
      ],
      "metadata": {
        "id": "1jPI1C4qKxDB",
        "outputId": "6071c85a-5dab-4ad0-d21e-e81c47b7cea8",
        "colab": {
          "base_uri": "https://localhost:8080/"
        }
      },
      "execution_count": 36,
      "outputs": [
        {
          "output_type": "stream",
          "name": "stdout",
          "text": [
            "The middle point: (-1.0, 5.0)\n"
          ]
        }
      ]
    },
    {
      "cell_type": "code",
      "source": [
        "a1 = abs(3)\n",
        "a2 = abs(2)\n",
        "b1 = abs(-1)\n",
        "b2 = abs(-1)\n",
        "\n",
        "\n",
        "\n",
        "xdist = (a1 + b1)**2\n",
        "ydist = (a2 + b2)**2\n",
        "distance = (xdist + ydist)**0.5\n",
        "\n",
        "print(f'The distance between points A and B: {distance}')"
      ],
      "metadata": {
        "id": "nGjvZcD6MBnR",
        "outputId": "32e066fb-b5e2-4333-d65e-7cca05b87cc8",
        "colab": {
          "base_uri": "https://localhost:8080/"
        }
      },
      "execution_count": 43,
      "outputs": [
        {
          "output_type": "stream",
          "name": "stdout",
          "text": [
            "The distance between points A and B: 5.0\n"
          ]
        }
      ]
    },
    {
      "cell_type": "code",
      "source": [
        "a = 1\n",
        "b = 5\n",
        "c = 4\n",
        "\n",
        "x2 = (-b+(b**2-4*a*c)**0.5)/(2*a)\n",
        "x1 = (-b-(b**2-4*a*c)**0.5)/(2*a)\n",
        "print(f'x1 = {x1} \\nx2 = {x2}')"
      ],
      "metadata": {
        "id": "-KouYFnDNbDU",
        "outputId": "32878c72-1fcf-42cf-e7a4-4ce967a07394",
        "colab": {
          "base_uri": "https://localhost:8080/"
        }
      },
      "execution_count": 47,
      "outputs": [
        {
          "output_type": "stream",
          "name": "stdout",
          "text": [
            "x1 = -4.0 \n",
            "x2 = -1.0\n"
          ]
        }
      ]
    },
    {
      "cell_type": "code",
      "source": [
        "ans = (4*3*4.5*5)**0.25\n",
        "print(f'Geometric average of the given number is {ans:.2f}')"
      ],
      "metadata": {
        "id": "kjIi1yLQOoqw",
        "outputId": "ba8d04cc-460b-4e2e-bcd0-0970e557dc3d",
        "colab": {
          "base_uri": "https://localhost:8080/"
        }
      },
      "execution_count": 52,
      "outputs": [
        {
          "output_type": "stream",
          "name": "stdout",
          "text": [
            "Geometric average of the given number is 4.05\n"
          ]
        }
      ]
    },
    {
      "cell_type": "code",
      "source": [
        "a1 = 1\n",
        "a2 = 1/2\n",
        "q = a2/a1\n",
        "S = a1 / (1-q)\n",
        "print(f'The sum of the sequence is: {S}')"
      ],
      "metadata": {
        "id": "l8GNRku4Tnf6",
        "outputId": "9dc687e0-5905-4200-8a0e-670bc7a0ee66",
        "colab": {
          "base_uri": "https://localhost:8080/"
        }
      },
      "execution_count": 53,
      "outputs": [
        {
          "output_type": "stream",
          "name": "stdout",
          "text": [
            "The sum of the sequence is: 2.0\n"
          ]
        }
      ]
    },
    {
      "cell_type": "code",
      "source": [
        "x1, x2, x3 = 10, 11, 9\n",
        "mean = (x1 + x2 + x3) / 3\n",
        "var = ((x1 - mean)**2 + (x2 - mean)**2 + (x3 - mean)**2) / 3.0\n",
        "std = var**(1/2)\n",
        "print(f'The standard deviation: {std:.2f}')"
      ],
      "metadata": {
        "id": "BPpcv0XaUlIY",
        "outputId": "c923917d-6e74-4201-d98f-277e3d01921a",
        "colab": {
          "base_uri": "https://localhost:8080/"
        }
      },
      "execution_count": 58,
      "outputs": [
        {
          "output_type": "stream",
          "name": "stdout",
          "text": [
            "The standard deviation: 0.82\n"
          ]
        }
      ]
    }
  ]
}