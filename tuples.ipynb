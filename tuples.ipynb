{
  "nbformat": 4,
  "nbformat_minor": 0,
  "metadata": {
    "colab": {
      "provenance": [],
      "include_colab_link": true
    },
    "kernelspec": {
      "name": "python3",
      "display_name": "Python 3"
    },
    "language_info": {
      "name": "python"
    }
  },
  "cells": [
    {
      "cell_type": "markdown",
      "metadata": {
        "id": "view-in-github",
        "colab_type": "text"
      },
      "source": [
        "<a href=\"https://colab.research.google.com/github/zafiz10/test-colab/blob/main/tuples.ipynb\" target=\"_parent\"><img src=\"https://colab.research.google.com/assets/colab-badge.svg\" alt=\"Open In Colab\"/></a>"
      ]
    },
    {
      "cell_type": "code",
      "source": [
        "dji1 = ('AAPL.US', 'IBM.US', 'MSFT.US')\n",
        "dji2 = ('HD.US', 'GS.US', 'NKE.US')\n",
        "\n",
        "print(dji1 + dji2)\n",
        "print(dji1, dji2)"
      ],
      "metadata": {
        "id": "Gt7W7fB4vaMW",
        "outputId": "492c4085-d895-47b6-9d99-cef39fbfca27",
        "colab": {
          "base_uri": "https://localhost:8080/"
        }
      },
      "execution_count": 26,
      "outputs": [
        {
          "output_type": "stream",
          "name": "stdout",
          "text": [
            "('AAPL.US', 'IBM.US', 'MSFT.US', 'HD.US', 'GS.US', 'NKE.US')\n",
            "('AAPL.US', 'IBM.US', 'MSFT.US') ('HD.US', 'GS.US', 'NKE.US')\n"
          ]
        }
      ]
    },
    {
      "cell_type": "code",
      "source": [
        "members = (('Kate', 23), ('Tom', 19))\n",
        "result = members[0], ('John', 26), members[1]\n",
        "print(result)"
      ],
      "metadata": {
        "id": "9l-07UdzwMbi",
        "outputId": "5f5ee104-d0ee-4963-8ac8-07ecc3e275e1",
        "colab": {
          "base_uri": "https://localhost:8080/"
        }
      },
      "execution_count": 27,
      "outputs": [
        {
          "output_type": "stream",
          "name": "stdout",
          "text": [
            "(('Kate', 23), ('John', 26), ('Tom', 19))\n"
          ]
        }
      ]
    },
    {
      "cell_type": "code",
      "source": [
        "default = ('YES', 'NO', 'NO', 'YES', 'NO')\n",
        "\n",
        "print(default.count('YES'))"
      ],
      "metadata": {
        "id": "Gb4NbWsFwkDm",
        "outputId": "a0273b01-7f38-4121-9e18-cd50426d39ba",
        "colab": {
          "base_uri": "https://localhost:8080/"
        }
      },
      "execution_count": 28,
      "outputs": [
        {
          "output_type": "stream",
          "name": "stdout",
          "text": [
            "2\n"
          ]
        }
      ]
    },
    {
      "cell_type": "code",
      "source": [
        "names = ('Monica', 'Tom', 'John', 'Michael')\n",
        "namelist = tuple(sorted(names))\n",
        "print(namelist)"
      ],
      "metadata": {
        "id": "I1xJ49T5wvh5",
        "outputId": "470a4ae1-0a5b-49c4-c87d-57d322bda6ee",
        "colab": {
          "base_uri": "https://localhost:8080/"
        }
      },
      "execution_count": 30,
      "outputs": [
        {
          "output_type": "stream",
          "name": "stdout",
          "text": [
            "('John', 'Michael', 'Monica', 'Tom')\n"
          ]
        }
      ]
    },
    {
      "cell_type": "code",
      "source": [
        "info = (('Monica', 19), ('Tom', 21), ('John', 18))\n",
        "\n",
        "asc_info = tuple(sorted(info, key=lambda item: item[1]))\n",
        "print(asc_info)\n",
        "desc_info  = tuple(sorted(info, key=lambda item: item[1], reverse=True))\n",
        "print(desc_info)"
      ],
      "metadata": {
        "id": "ORLQLDgpxQPC",
        "outputId": "cd031936-1e31-42cd-88a6-c350bf7cf393",
        "colab": {
          "base_uri": "https://localhost:8080/"
        }
      },
      "execution_count": 37,
      "outputs": [
        {
          "output_type": "stream",
          "name": "stdout",
          "text": [
            "(('John', 18), ('Monica', 19), ('Tom', 21))\n",
            "(('Tom', 21), ('Monica', 19), ('John', 18))\n"
          ]
        }
      ]
    },
    {
      "cell_type": "code",
      "source": [
        "stocks = (\n",
        "    ('Apple Inc', ('AAPL.US', 310)),\n",
        "    ('Microsoft Corp', ('MSFT.US', 184)),\n",
        ")\n",
        "\n",
        "print(stocks[0][1][0])"
      ],
      "metadata": {
        "id": "bVavHHH3y9cx",
        "outputId": "da9721b0-4953-4b9e-ad51-4cd39b321335",
        "colab": {
          "base_uri": "https://localhost:8080/"
        }
      },
      "execution_count": 46,
      "outputs": [
        {
          "output_type": "stream",
          "name": "stdout",
          "text": [
            "AAPL.US\n"
          ]
        }
      ]
    }
  ]
}