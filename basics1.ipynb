{
  "nbformat": 4,
  "nbformat_minor": 0,
  "metadata": {
    "colab": {
      "provenance": [],
      "include_colab_link": true
    },
    "kernelspec": {
      "name": "python3",
      "display_name": "Python 3"
    },
    "language_info": {
      "name": "python"
    }
  },
  "cells": [
    {
      "cell_type": "markdown",
      "metadata": {
        "id": "view-in-github",
        "colab_type": "text"
      },
      "source": [
        "<a href=\"https://colab.research.google.com/github/zafiz10/test-colab/blob/main/basics1.ipynb\" target=\"_parent\"><img src=\"https://colab.research.google.com/assets/colab-badge.svg\" alt=\"Open In Colab\"/></a>"
      ]
    },
    {
      "cell_type": "code",
      "source": [
        "print('Learn Python!')"
      ],
      "metadata": {
        "id": "Lx0P5A0q_WLh",
        "outputId": "fd2d768d-58e3-428b-8753-0e90b679a9aa",
        "colab": {
          "base_uri": "https://localhost:8080/"
        }
      },
      "execution_count": 1,
      "outputs": [
        {
          "output_type": "stream",
          "name": "stdout",
          "text": [
            "Learn Python!\n"
          ]
        }
      ]
    },
    {
      "cell_type": "code",
      "source": [
        "age = 20\n",
        "print(f'I am {age} years old')"
      ],
      "metadata": {
        "id": "BysdvOZr_n_F",
        "outputId": "160c77f2-8b14-43d6-f7d6-fefe7d7e6dcf",
        "colab": {
          "base_uri": "https://localhost:8080/"
        }
      },
      "execution_count": 9,
      "outputs": [
        {
          "output_type": "stream",
          "name": "stdout",
          "text": [
            "I am 20 years old\n"
          ]
        }
      ]
    },
    {
      "cell_type": "code",
      "source": [
        "language = 'Python'\n",
        "version = 3.8\n",
        "\n",
        "print(f'I am learning {language} version {version}')"
      ],
      "metadata": {
        "id": "NBxj1s3HAkJ1",
        "outputId": "8c26ae90-b7cb-448c-eeb6-d78af3b9c541",
        "colab": {
          "base_uri": "https://localhost:8080/"
        }
      },
      "execution_count": 11,
      "outputs": [
        {
          "output_type": "stream",
          "name": "stdout",
          "text": [
            "I am learning Python version 3.8\n"
          ]
        }
      ]
    },
    {
      "cell_type": "code",
      "source": [
        "price = 199.99\n",
        "print('This costs', price)\n",
        "print(f'This costs {price}')"
      ],
      "metadata": {
        "id": "AtD6pVbeBGpg",
        "outputId": "085ea37c-19c7-4966-d49e-e6d4e499f3f3",
        "colab": {
          "base_uri": "https://localhost:8080/"
        }
      },
      "execution_count": 14,
      "outputs": [
        {
          "output_type": "stream",
          "name": "stdout",
          "text": [
            "This costs 199.99\n",
            "This costs 199.99\n"
          ]
        }
      ]
    },
    {
      "cell_type": "code",
      "source": [
        "prodprice = float(39.99)\n",
        "prodweight = int(20)\n",
        "\n",
        "print(f'Price: ${prodprice}. Weight: {prodweight} lbs.')"
      ],
      "metadata": {
        "id": "6GrTixFfBrM0",
        "outputId": "2daa18c7-23b8-402c-bfe2-0059a486eff6",
        "colab": {
          "base_uri": "https://localhost:8080/"
        }
      },
      "execution_count": 17,
      "outputs": [
        {
          "output_type": "stream",
          "name": "stdout",
          "text": [
            "Price: $39.99. Weight: 20 lbs.\n"
          ]
        }
      ]
    },
    {
      "cell_type": "code",
      "source": [
        "pi = 3.1415926535\n",
        "\n",
        "print(f'Pi: {pi:.2f}')"
      ],
      "metadata": {
        "id": "53l6CHGGCe5k",
        "outputId": "cba350e3-906e-4930-ce59-dceb30192e87",
        "colab": {
          "base_uri": "https://localhost:8080/"
        }
      },
      "execution_count": 20,
      "outputs": [
        {
          "output_type": "stream",
          "name": "stdout",
          "text": [
            "Pi: 3.14\n"
          ]
        }
      ]
    },
    {
      "cell_type": "code",
      "source": [
        "import sys\n",
        "\n",
        "print('----------------------------------------')\n",
        "print(f'VERSION: {sys.version.split()[0]}')\n",
        "print('----------------------------------------')\n",
        "\n",
        "print('-' * 40)\n",
        "print('VERSION: 1.0.1')\n",
        "print('-' * 40)\n"
      ],
      "metadata": {
        "id": "UF6LU8f1D6VH",
        "outputId": "e3fe3c9c-92fd-410a-c54d-76dcdcaf899a",
        "colab": {
          "base_uri": "https://localhost:8080/"
        }
      },
      "execution_count": 23,
      "outputs": [
        {
          "output_type": "stream",
          "name": "stdout",
          "text": [
            "----------------------------------------\n",
            "VERSION: 3.11.11\n",
            "----------------------------------------\n",
            "----------------------------------------\n",
            "VERSION: 1.0.1\n",
            "----------------------------------------\n"
          ]
        }
      ]
    },
    {
      "cell_type": "code",
      "source": [
        "print('=' * 40)\n",
        "print('author: johnsmith@sample.com')\n",
        "print('date: 01-01-2021')\n",
        "print('=' * 40)"
      ],
      "metadata": {
        "id": "-jETFcSFFGC_",
        "outputId": "5b473fa1-c442-41ef-95f1-92c0c743377e",
        "colab": {
          "base_uri": "https://localhost:8080/"
        }
      },
      "execution_count": 24,
      "outputs": [
        {
          "output_type": "stream",
          "name": "stdout",
          "text": [
            "========================================\n",
            "author: johnsmith@sample.com\n",
            "date: 01-01-2021\n",
            "========================================\n"
          ]
        }
      ]
    },
    {
      "cell_type": "code",
      "source": [
        "print('summer', 'time', 'holiday', sep='#')"
      ],
      "metadata": {
        "id": "EPiAn9vyFotC",
        "outputId": "e8751280-256d-46ab-914f-4b9494868dc8",
        "colab": {
          "base_uri": "https://localhost:8080/"
        }
      },
      "execution_count": 26,
      "outputs": [
        {
          "output_type": "stream",
          "name": "stdout",
          "text": [
            "summer#time#holiday\n"
          ]
        }
      ]
    }
  ]
}